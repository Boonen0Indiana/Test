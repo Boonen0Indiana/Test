{
 "cells": [
  {
   "cell_type": "markdown",
   "id": "a61494d9",
   "metadata": {},
   "source": [
    "<h1> Data Science Tools and Ecosystem </h1> "
   ]
  },
  {
   "cell_type": "markdown",
   "id": "5d6a671c",
   "metadata": {},
   "source": [
    "<h2> Author </h2>\n",
    "MK"
   ]
  },
  {
   "cell_type": "markdown",
   "id": "35c549dd",
   "metadata": {},
   "source": [
    "In this notebook, Data Science Tools and Ecosystem are summarized."
   ]
  },
  {
   "cell_type": "markdown",
   "id": "2ab7abc3",
   "metadata": {},
   "source": [
    "<b> Objectives: </b> \n",
    "<ul> \n",
    "    <li> Learn Python </li>\n",
    "    <li> Learn R </li>\n",
    "    <li> Learn Excel </li>\n",
    "</ul> "
   ]
  },
  {
   "cell_type": "markdown",
   "id": "25ec40ba",
   "metadata": {},
   "source": [
    "Some of the popular languages that Data Scientists use are: \n",
    "<ol> \n",
    "    <li> Python </li>\n",
    "    <li> R </li>\n",
    "    <li> Julia </li>\n",
    "</ol> "
   ]
  },
  {
   "cell_type": "markdown",
   "id": "ae9f32a6",
   "metadata": {},
   "source": [
    "Some of the commonly used libraries used by Data Scientists include :\n",
    "<ol>\n",
    "    <li>Pandas </li>\n",
    "    <li> Numpy </li>\n",
    "    <li> Matpolib </li>\n",
    "</ol>"
   ]
  },
  {
   "cell_type": "markdown",
   "id": "840cc74b",
   "metadata": {},
   "source": [
    "\n"
   ]
  },
  {
   "cell_type": "markdown",
   "id": "23d8eff3",
   "metadata": {},
   "source": [
    "| Data Science Tools       |\n",
    "|--------------------------|\n",
    "| Jupyter Notebook         |\n",
    "| RStudio                  |\n",
    "| VS Code (Visual Studio Code) |"
   ]
  },
  {
   "cell_type": "markdown",
   "id": "819baa35",
   "metadata": {},
   "source": [
    "<h3> Below are a few examples of evaluating arithmetic expressions in Python3 </h3>\n",
    "1 + 2 = 3"
   ]
  },
  {
   "cell_type": "code",
   "execution_count": 7,
   "id": "154a7ae9",
   "metadata": {},
   "outputs": [
    {
     "data": {
      "text/plain": [
       "17"
      ]
     },
     "execution_count": 7,
     "metadata": {},
     "output_type": "execute_result"
    }
   ],
   "source": [
    "#this a simple arithmetic expression to mutiply then add integers\n",
    "(3 * 4) + 5\n"
   ]
  },
  {
   "cell_type": "code",
   "execution_count": 1,
   "id": "f17faf08",
   "metadata": {},
   "outputs": [
    {
     "data": {
      "text/plain": [
       "3.3333333333333335"
      ]
     },
     "execution_count": 1,
     "metadata": {},
     "output_type": "execute_result"
    }
   ],
   "source": [
    "#this will convert 200 minutes to hours by diving by 60\n",
    "minutes_number = 200\n",
    "hours = 60 \n",
    "minutes_number / hours "
   ]
  },
  {
   "cell_type": "code",
   "execution_count": null,
   "id": "bc9798f3",
   "metadata": {},
   "outputs": [],
   "source": []
  }
 ],
 "metadata": {
  "kernelspec": {
   "display_name": "Python 3 (ipykernel)",
   "language": "python",
   "name": "python3"
  },
  "language_info": {
   "codemirror_mode": {
    "name": "ipython",
    "version": 3
   },
   "file_extension": ".py",
   "mimetype": "text/x-python",
   "name": "python",
   "nbconvert_exporter": "python",
   "pygments_lexer": "ipython3",
   "version": "3.9.13"
  }
 },
 "nbformat": 4,
 "nbformat_minor": 5
}
